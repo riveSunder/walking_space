{
 "cells": [
  {
   "cell_type": "markdown",
   "id": "3600c84e",
   "metadata": {},
   "source": [
    "# DockRL Results\n",
    "\n",
    "## Direct CMA-ES Optimization of Parameters\n",
    "\n",
    "### Training Curves\n",
    "\n",
    "<div align=\"center\">\n",
    "<img src=\"assets/gen20_training_curves.png\" width=55%>\n",
    "</div>\n",
    "\n",
    "### Results\n",
    "<div align=\"center\">\n",
    "<img src=\"assets/gen20_evaluation.png\" width=45%>\n",
    "</div>\n",
    "\n",
    "## Optimization with Multilayer Perceptron and Graph NN Policies\n",
    "\n",
    "### Experiment 1\n",
    "<div align=\"center\">\n",
    "<img src=\"assets/dockrl_direct_vs_mlp.png\" width=55%>\n",
    "</div>\n",
    "\n",
    "### Experiment 2\n",
    "<div align=\"center\">\n",
    "<img src=\"assets/dockrl_results_october.png\" width=55%>\n",
    "</div>\n",
    "\n",
    "The first three figures can be found in the DockRL blog post: \n",
    "\n",
    "* Truly, Yours, \"Improving the Scoring Function for Protein-Ligand Docking with Evolutionary Reinforcement Learning\" https://rivesunder.github.io/rl,/evolution,/biophysics/2020/10/20/dockrl.html. 2020\n",
    "\n",
    "| [Prev Page](page008_dockrla.ipynb) | [Next Page](page010_graph_nn_cartoons.ipynb) | \n",
    "|-----------------------------------------------------------|------------------------------------|\n",
    "| | |"
   ]
  },
  {
   "cell_type": "code",
   "execution_count": null,
   "id": "05b31e45",
   "metadata": {},
   "outputs": [],
   "source": []
  }
 ],
 "metadata": {
  "kernelspec": {
   "display_name": "Python 3",
   "language": "python",
   "name": "python3"
  },
  "language_info": {
   "codemirror_mode": {
    "name": "ipython",
    "version": 3
   },
   "file_extension": ".py",
   "mimetype": "text/x-python",
   "name": "python",
   "nbconvert_exporter": "python",
   "pygments_lexer": "ipython3",
   "version": "3.6.9"
  }
 },
 "nbformat": 4,
 "nbformat_minor": 5
}
