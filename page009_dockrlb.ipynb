{
 "cells": [
  {
   "cell_type": "markdown",
   "id": "3600c84e",
   "metadata": {},
   "source": [
    "# Direct Optimization of Smina Objective Weights vs. NN Parametrization\n",
    "\n",
    "<img src=\"assets/dockrl_direct_vs_mlp.png\">\n",
    "\n",
    "DockRL formulate Smina docking optimization (with respect to ligand RMSD from ground truth) as a reinforcement learning environment. \n",
    "\n",
    "| [Prev Page](page008_dockrla.ipynb) | [Next Page](page010_graph_nns.ipynb) | \n",
    "|-----------------------------------------------------------|------------------------------------|\n",
    "| | |"
   ]
  }
 ],
 "metadata": {
  "kernelspec": {
   "display_name": "Python 3",
   "language": "python",
   "name": "python3"
  },
  "language_info": {
   "codemirror_mode": {
    "name": "ipython",
    "version": 3
   },
   "file_extension": ".py",
   "mimetype": "text/x-python",
   "name": "python",
   "nbconvert_exporter": "python",
   "pygments_lexer": "ipython3",
   "version": "3.6.9"
  }
 },
 "nbformat": 4,
 "nbformat_minor": 5
}
