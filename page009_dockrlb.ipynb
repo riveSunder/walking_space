{
 "cells": [
  {
   "cell_type": "markdown",
   "id": "3600c84e",
   "metadata": {},
   "source": [
    "# Direct Optimization of Smina Objective Weights vs. NN Parametrization\n",
    "\n",
    "<div align=\"center\">\n",
    "<img src=\"assets/dockrl_direct_vs_mlp.png\">\n",
    "</div>\n",
    "\n",
    "DockRL formulate Smina docking optimization (with respect to ligand RMSD from ground truth) as a reinforcement learning environment. \n",
    "\n",
    "| [Prev Page](page008_dockrla.ipynb) | [Next Page](page010_graph_nn_cartoons.ipynb) | \n",
    "|-----------------------------------------------------------|------------------------------------|\n",
    "| | |"
   ]
  },
  {
   "cell_type": "code",
   "execution_count": null,
   "id": "05b31e45",
   "metadata": {},
   "outputs": [],
   "source": []
  }
 ],
 "metadata": {
  "kernelspec": {
   "display_name": "Python 3",
   "language": "python",
   "name": "python3"
  },
  "language_info": {
   "codemirror_mode": {
    "name": "ipython",
    "version": 3
   },
   "file_extension": ".py",
   "mimetype": "text/x-python",
   "name": "python",
   "nbconvert_exporter": "python",
   "pygments_lexer": "ipython3",
   "version": "3.6.9"
  }
 },
 "nbformat": 4,
 "nbformat_minor": 5
}
