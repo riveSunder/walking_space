{
 "cells": [
  {
   "cell_type": "markdown",
   "id": "613a1f9d",
   "metadata": {},
   "source": [
    "<div align=\"center\">\n",
    "    <h1>Graph Neural Networks are Just Neural Networks on Graphs</h1>\n",
    "</div>\n",
    "\n",
    "\n",
    "<div align=\"center\">\n",
    "<img src=\"assets/graph_nn_cartoon.png\">\n",
    "</div>\n"
   ]
  },
  {
   "cell_type": "markdown",
   "id": "e48b5759",
   "metadata": {},
   "source": [
    "\n",
    "<div align=\"center\">\n",
    "<img src=\"assets/graph_nn_attention.png\">\n",
    "</div>\n",
    "\n",
    "_I made these diagrams and they are freely available (public domain) at [https://rivesunder.github.io/public_domain/2021/07/25/public_domain.html](https://rivesunder.github.io/public_domain/2021/07/25/public_domain.html)_\n",
    "\n",
    "\n",
    "| [Prev Page](page009_dockrlb.ipynb) | [Next Page](page011_graph_neural_networks.ipynb) | \n",
    "|-----------------------------------------------------------|------------------------------------|\n",
    "| | |"
   ]
  },
  {
   "cell_type": "code",
   "execution_count": null,
   "id": "f676727a",
   "metadata": {},
   "outputs": [],
   "source": []
  }
 ],
 "metadata": {
  "kernelspec": {
   "display_name": "Python 3",
   "language": "python",
   "name": "python3"
  },
  "language_info": {
   "codemirror_mode": {
    "name": "ipython",
    "version": 3
   },
   "file_extension": ".py",
   "mimetype": "text/x-python",
   "name": "python",
   "nbconvert_exporter": "python",
   "pygments_lexer": "ipython3",
   "version": "3.6.9"
  }
 },
 "nbformat": 4,
 "nbformat_minor": 5
}
