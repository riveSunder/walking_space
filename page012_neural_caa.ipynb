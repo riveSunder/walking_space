{
 "cells": [
  {
   "cell_type": "markdown",
   "id": "fba0ead6",
   "metadata": {},
   "source": [
    "# Graph Neural Networks and Neural Cellular Automata Are Structural Deep Models\n",
    "\n",
    "<img src=\"assets/graphnn_nca.png\" width=60%>\n",
    "\n",
    "| [Prev Page](page0011_graph_nns.ipynb) | [Next Page](page013_neural_cab.ipynb) | \n",
    "|------------------------------------------------------------|------------------------------------|\n",
    "| | |"
   ]
  }
 ],
 "metadata": {
  "kernelspec": {
   "display_name": "Python 3",
   "language": "python",
   "name": "python3"
  },
  "language_info": {
   "codemirror_mode": {
    "name": "ipython",
    "version": 3
   },
   "file_extension": ".py",
   "mimetype": "text/x-python",
   "name": "python",
   "nbconvert_exporter": "python",
   "pygments_lexer": "ipython3",
   "version": "3.6.9"
  }
 },
 "nbformat": 4,
 "nbformat_minor": 5
}
