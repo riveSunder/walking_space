{
 "cells": [
  {
   "cell_type": "markdown",
   "id": "4c44579b",
   "metadata": {},
   "source": [
    "# Generating Endless Policy Variations with Policy Generating Evolved Networks\n",
    "\n",
    "## Walking through latent space to generate variations on a theme.\n",
    "\n",
    "<img src=\"assets/pgen_diagram.png\" width=76%>\n",
    "\n",
    "Concept figure from the PGENs repo: [https://github.com/riveSunder/pgens](https://github.com/riveSunder/pgens)"
   ]
  }
 ],
 "metadata": {
  "kernelspec": {
   "display_name": "Python 3",
   "language": "python",
   "name": "python3"
  },
  "language_info": {
   "codemirror_mode": {
    "name": "ipython",
    "version": 3
   },
   "file_extension": ".py",
   "mimetype": "text/x-python",
   "name": "python",
   "nbconvert_exporter": "python",
   "pygments_lexer": "ipython3",
   "version": "3.6.9"
  }
 },
 "nbformat": 4,
 "nbformat_minor": 5
}
