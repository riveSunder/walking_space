{
 "cells": [
  {
   "cell_type": "markdown",
   "id": "44857aef",
   "metadata": {},
   "source": [
    "# Growth and Repair with Neural Cellular Automata\n",
    "\n",
    "## Growth \n",
    "\n",
    "<div align=\"center\">\n",
    "<img src=\"assets/cool_jigglypuff42_128.gif\" width=75%>\n",
    "</div>\n",
    "\n",
    "## Repair\n",
    "\n",
    "    \n",
    "<div align=\"center\">\n",
    "<img src=\"assets/jigglypuff_is_wolverine.gif\" width=50%>\n",
    "</div>\n",
    "\n",
    "Animations made with my differentiable cellular automata repository: [https://github.com/rivesunder/dca](https://github.com/rivesunder/dca). See also the blog post: [Playing Pokemon Grow with Differentiable Cellular Automata](https://rivesunder.github.io/cellular_automata/differentiable_programming/2021/01/08/pokemon_grow.html)\n",
    "\n",
    "| [Prev Page](page0012_neural_caa.ipynb) | [Next Page](page0xx_differentiable_physics.ipynb) | \n",
    "|------------------------------------------------------------|-----------------------------------|\n",
    "| | |"
   ]
  },
  {
   "cell_type": "code",
   "execution_count": null,
   "id": "805661a7",
   "metadata": {},
   "outputs": [],
   "source": []
  }
 ],
 "metadata": {
  "kernelspec": {
   "display_name": "Python 3",
   "language": "python",
   "name": "python3"
  },
  "language_info": {
   "codemirror_mode": {
    "name": "ipython",
    "version": 3
   },
   "file_extension": ".py",
   "mimetype": "text/x-python",
   "name": "python",
   "nbconvert_exporter": "python",
   "pygments_lexer": "ipython3",
   "version": "3.6.9"
  }
 },
 "nbformat": 4,
 "nbformat_minor": 5
}
