{
 "cells": [
  {
   "cell_type": "markdown",
   "id": "fba0ead6",
   "metadata": {},
   "source": [
    "# Cellular Automata Simplified\n",
    "\n",
    "## Step 1: Calculate Neighborhoods\n",
    "\n",
    "<div align=\"center\">\n",
    "    <img src=\"assets/moore_neighborhood.png\" width=20%>\n",
    "    </div>\n",
    "\n",
    "## Step 2: Update States\n",
    "<div align=\"center\">\n",
    "    <img src=\"assets/update_states.png\" width=47%>\n",
    "    </div>\n",
    "\n",
    "## Step 3: Enjoy\n",
    "<div align=\"center\">\n",
    "    <img src=\"assets/toroid_nnlib.gif\" width=50%>\n",
    "    </div>\n",
    "\n",
    "* <h2> These steps are equivalent to the adjacency matrix multiplication (Step 1) and weight matrix multiplication (Step 2) in Graph Convolutions, and can be readily implemented with modern deep learning libraries.</h2>\n",
    "\n",
    "Step 1 and Step 2 use Morley rules (B368/S245) and the animation in Step 3 uses the famous Conway's Game of Life rules (B3/S23). \n",
    "\n",
    "Figures from my paper (Step 1 and Step 2)\n",
    "\n",
    "* Davis, Q.. “Carle's Game: An Open-Ended Challenge in Exploratory Machine Creativity.” ArXiv abs/2107.05786 (2021) [https://arxiv.org/abs/2107.05786](https://arxiv.org/abs/2107.05786)\n",
    "\n",
    "and blog post (Step 3)\n",
    "\n",
    "* \"Faster Convolutions and Cellular Automata in Julia with NNlib: 2.7X Faster than PyTorch\" [https://rivesunder.github.io/SortaSota/2021/09/27/faster_life_julia.html](https://rivesunder.github.io/SortaSota/2021/09/27/faster_life_julia.html)\n",
    "\n",
    "| [Prev Page](page012_neural_caa.ipynb) | [Next Page](page013_neural_cab.ipynb) | \n",
    "|------------------------------------------------------------|------------------------------------|\n",
    "| | |"
   ]
  },
  {
   "cell_type": "code",
   "execution_count": null,
   "id": "824cf98f",
   "metadata": {},
   "outputs": [],
   "source": []
  }
 ],
 "metadata": {
  "kernelspec": {
   "display_name": "Python 3",
   "language": "python",
   "name": "python3"
  },
  "language_info": {
   "codemirror_mode": {
    "name": "ipython",
    "version": 3
   },
   "file_extension": ".py",
   "mimetype": "text/x-python",
   "name": "python",
   "nbconvert_exporter": "python",
   "pygments_lexer": "ipython3",
   "version": "3.6.9"
  }
 },
 "nbformat": 4,
 "nbformat_minor": 5
}
