{
 "cells": [
  {
   "cell_type": "markdown",
   "id": "d36cb293",
   "metadata": {},
   "source": [
    "<div align=\"center\">\n",
    "    <h1>Latent Space Can Be Used as a Map</h1>\n",
    "    </div>\n",
    "    \n",
    "    \n",
    "<div align=\"center\">\n",
    "<img src=\"assets/latent_map.png\" width=75%>\n",
    "</div>    \n",
    "\n",
    "\n",
    "For a real example, see the [image](https://bair.berkeley.edu/static/blog/tape/tsne_fluorescence.png) from Berkeley's [BAIR lab](https://bair.berkeley.edu/blog/2019/11/04/proteins/) which shows the distribution of mutated GFP fluorescence as distributed in a [t-SNE](https://en.wikipedia.org/wiki/T-distributed_stochastic_neighbor_embedding) reduced dimensionality visualization of transformer-encoded features. \n",
    "\n",
    "* Rao, Roshan et al. “Evaluating Protein Transfer Learning with TAPE.” bioRxiv (2019): [https://www.biorxiv.org/content/10.1101/676825v1](https://www.biorxiv.org/content/10.1101/676825v1)\n",
    "\n",
    "\n",
    "| [Prev Page](page007_walking_latent_space_policiesb.ipynb) | [Next Page](page008_dockrla.ipynb) | \n",
    "|------------------------------------------------------------|-----------------------------------|\n",
    "| | |"
   ]
  },
  {
   "cell_type": "code",
   "execution_count": null,
   "id": "07197019",
   "metadata": {},
   "outputs": [],
   "source": []
  }
 ],
 "metadata": {
  "kernelspec": {
   "display_name": "Python 3",
   "language": "python",
   "name": "python3"
  },
  "language_info": {
   "codemirror_mode": {
    "name": "ipython",
    "version": 3
   },
   "file_extension": ".py",
   "mimetype": "text/x-python",
   "name": "python",
   "nbconvert_exporter": "python",
   "pygments_lexer": "ipython3",
   "version": "3.6.9"
  }
 },
 "nbformat": 4,
 "nbformat_minor": 5
}
