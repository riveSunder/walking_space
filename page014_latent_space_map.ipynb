{
 "cells": [
  {
   "cell_type": "markdown",
   "id": "d36cb293",
   "metadata": {},
   "source": [
    "<div align=\"center\">\n",
    "    <h1>Latent Space Can Be Used as a Map</h1>\n",
    "    </div>\n",
    "<img src=\"assets/latent_map.png\" width=75%>"
   ]
  }
 ],
 "metadata": {
  "kernelspec": {
   "display_name": "Python 3",
   "language": "python",
   "name": "python3"
  },
  "language_info": {
   "codemirror_mode": {
    "name": "ipython",
    "version": 3
   },
   "file_extension": ".py",
   "mimetype": "text/x-python",
   "name": "python",
   "nbconvert_exporter": "python",
   "pygments_lexer": "ipython3",
   "version": "3.6.9"
  }
 },
 "nbformat": 4,
 "nbformat_minor": 5
}
