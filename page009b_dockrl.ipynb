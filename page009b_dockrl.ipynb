{
 "cells": [
  {
   "cell_type": "markdown",
   "id": "3600c84e",
   "metadata": {},
   "source": [
    "# Direct Optimization of Smina Objective Weights vs. NN Parametrization\n",
    "\n",
    "<img src=\"assets/dockrl_direct_vs_mlp.png\">\n",
    "\n",
    "# MLP Versus GraphNN Optimization of Smina Objective Weights \n",
    "\n",
    "<img src=\"assets/dockrl_graphnn_vs_mlp.png\">\n",
    "\n",
    "Note these are placeholder images while I run the experiment\n",
    "\n",
    "\n",
    "| [Prev Page](page009a_dockrl.ipynb) | [Next Page](page010_graph_nns.ipynb) | \n",
    "|-----------------------------------------------------------|------------------------------------|\n",
    "| | |"
   ]
  }
 ],
 "metadata": {
  "kernelspec": {
   "display_name": "Python 3",
   "language": "python",
   "name": "python3"
  },
  "language_info": {
   "codemirror_mode": {
    "name": "ipython",
    "version": 3
   },
   "file_extension": ".py",
   "mimetype": "text/x-python",
   "name": "python",
   "nbconvert_exporter": "python",
   "pygments_lexer": "ipython3",
   "version": "3.6.9"
  }
 },
 "nbformat": 4,
 "nbformat_minor": 5
}
