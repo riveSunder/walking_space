{
 "cells": [
  {
   "cell_type": "markdown",
   "id": "1b52d9d7",
   "metadata": {},
   "source": [
    "<div align=\"center\">\n",
    "    <h1>Graph Neural Networks are Built with Matrix Multiplication</h1>\n",
    "</div>\n",
    "\n",
    "<img src=\"assets/gc_nn_cartoon.png\" width=75%>\n",
    "\n",
    "Where '\\*' is matrix multiplication and $\\sigma$ is a non-linear activation function. Note that in practice we normalize features , for example by multiplying by the inverse degree matrix, which in effect averages the neighboring node features influencing any given node. \n",
    "\n",
    "$$ f(A,X,W) = \\sigma(D^{-1} * A * X * W) $$\n",
    "\n",
    "<!-- $$ D^{-1} = \\frac{1}{diag(\\sum_{rows}{A})} $$ -->\n",
    "\n",
    "Based on Graph Convolutional Networks:\n",
    "\n",
    "* Blog post by Thomas Kipf: https://tkipf.github.io/graph-convolutional-networks/\n",
    "\n",
    "* Kipf, Thomas and Max Welling. “Semi-Supervised Classification with Graph Convolutional Networks.” ArXiv abs/1609.02907 (2017): [https://arxiv.org/abs/1609.02907](https://arxiv.org/abs/1609.02907)\n",
    "\n",
    "I just discovered that distill.pub has a short series on GNNs. Well worth a look!\n",
    "\n",
    "* Sanchez-Lengeling, et al., \"A Gentle Introduction to Graph Neural Networks\", Distill, 2021. [https://distill.pub/2021/gnn-intro/](https://distill.pub/2021/gnn-intro/)\n",
    "\n",
    "* Daigavane, et al., \"Understanding Convolutions on Graphs\", Distill, 2021. [https://distill.pub/2021/understanding-gnns/](https://distill.pub/2021/understanding-gnns/)\n",
    "\n",
    "| [Prev Page](page010_graph_nn_cartoons.ipynb) | [Next Page](page012_neural_caa.ipynb) | \n",
    "|-----------------------------------------------------------|------------------------------------|\n",
    "| | |"
   ]
  },
  {
   "cell_type": "code",
   "execution_count": null,
   "id": "143e5db5",
   "metadata": {},
   "outputs": [],
   "source": []
  }
 ],
 "metadata": {
  "kernelspec": {
   "display_name": "Python 3",
   "language": "python",
   "name": "python3"
  },
  "language_info": {
   "codemirror_mode": {
    "name": "ipython",
    "version": 3
   },
   "file_extension": ".py",
   "mimetype": "text/x-python",
   "name": "python",
   "nbconvert_exporter": "python",
   "pygments_lexer": "ipython3",
   "version": "3.6.9"
  }
 },
 "nbformat": 4,
 "nbformat_minor": 5
}
