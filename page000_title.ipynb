{
 "cells": [
  {
   "cell_type": "markdown",
   "id": "1362edd2",
   "metadata": {},
   "source": [
    "<div align=\"center\">\n",
    "    <h1> Walking Through Latent Space and Other Rewarding Pastimes</h1>\n",
    "    \n",
    "</div>\n",
    "\n",
    "<img src=\"assets/gan_panel.png\" width = 40%>\n",
    "\n",
    "Want to re-vist this presentation or experiment with the code? Visit the repository: [https://github.com/rivesunder/walking_space](https://github.com/rivesunder/walking_space)\n",
    "\n",
    "| [Begin](page001_conclusionsa.ipynb) | \n",
    "|------------------------------------|\n",
    "| |"
   ]
  }
 ],
 "metadata": {
  "kernelspec": {
   "display_name": "Python 3",
   "language": "python",
   "name": "python3"
  },
  "language_info": {
   "codemirror_mode": {
    "name": "ipython",
    "version": 3
   },
   "file_extension": ".py",
   "mimetype": "text/x-python",
   "name": "python",
   "nbconvert_exporter": "python",
   "pygments_lexer": "ipython3",
   "version": "3.6.9"
  }
 },
 "nbformat": 4,
 "nbformat_minor": 5
}
