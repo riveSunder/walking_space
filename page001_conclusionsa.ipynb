{
 "cells": [
  {
   "cell_type": "markdown",
   "id": "a608939c",
   "metadata": {},
   "source": [
    "<div align=\"center\"> <h1>Conclusions</h1> </div>\n",
    "\n",
    "* <h2> Deep learning models are often treated as a black box, the inputs and outputs being the only characteristics of interest. </h2>\n",
    "\n",
    "* <h2>But unlike black holes, deep models do have hair! in the form of a rich space of latent representations of the data they experience.</h2>\n",
    "\n",
    "<img src=\"assets/xkcd_blackhole.gif\">\n",
    "\n",
    "| [Prev Page](page000_title.ipynb) | [Next Page](page002_conclusionsb.ipynb) | \n",
    "|------------------------------------------------------------|------------------------------------|\n",
    "| | |\n",
    "\n",
    "* xkcd cartoon CC NC BY Randall Munroe: https://xkcd.com/1838/\n",
    "* Public Domain image from the Event Horizon Telescope: https://solarsystem.nasa.gov/resources/2319/first-image-of-a-black-hole/\n",
    "   "
   ]
  },
  {
   "cell_type": "code",
   "execution_count": null,
   "id": "de53ab80",
   "metadata": {},
   "outputs": [],
   "source": [
    "     \n",
    "CC BY SA Amandine Brige https://commons.wikimedia.org/wiki/File:ENS_2001_Monolith_below.jpg\n",
    "PD from NASA's JPL: https://www.jpl.nasa.gov/images/ngc-6090-a-pair-of-spiral-galaxies"
   ]
  }
 ],
 "metadata": {
  "kernelspec": {
   "display_name": "Python 3",
   "language": "python",
   "name": "python3"
  },
  "language_info": {
   "codemirror_mode": {
    "name": "ipython",
    "version": 3
   },
   "file_extension": ".py",
   "mimetype": "text/x-python",
   "name": "python",
   "nbconvert_exporter": "python",
   "pygments_lexer": "ipython3",
   "version": "3.6.9"
  }
 },
 "nbformat": 4,
 "nbformat_minor": 5
}
