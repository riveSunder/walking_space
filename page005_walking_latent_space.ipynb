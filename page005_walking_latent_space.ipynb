{
 "cells": [
  {
   "cell_type": "markdown",
   "id": "87ea18a0",
   "metadata": {},
   "source": [
    "# Walking Latent Space\n",
    "\n",
    "<h3>When we \"walk through latent space\" we treat an abstract high-dimensional space in or input to a neural network as spatial coordinates. Smoothly varying these coordinates allows us to sample outputs that should all be pretty reasonable, and similar outputs tend to be grouped together in latent space.</h3> \n",
    "\n",
    "<h3>The most common example is a walk through latent space with the generator from a generator/discriminator pair of a generative adversarial network (GAN). </h3>\n",
    "\n",
    "<div align=\"center\">\n",
    "<img src=\"assets/city_walk.gif\">\n",
    "</div>\n",
    "\n",
    "GAN latent space walk from [my DCGAN implementation](https://github.com/riveSunder/fun-with-gans). <!-- and used in [this blog post](https://medium.com/the-scinder/3-ideas-for-dealing-with-the-consequences-of-overpopulation-from-science-fiction-925e23d3a2f?sk=136ff89d0aaaa3bd43390788888ae71b)-->\n",
    "\n",
    "DCGAN citation: Radford, Alec et al. “Unsupervised Representation Learning with Deep Convolutional Generative Adversarial Networks.” CoRR (2016) [https://arxiv.org/abs/1511.06434v2](https://arxiv.org/abs/1511.06434v2)\n",
    "\n",
    "| [Prev Page](page004_deep_learning.ipynb) | [Next Page](page006_walking_latent_space_policiesa.ipynb) | \n",
    "|------------------------------------------------------------|------------------------------------|\n",
    "| | |\n"
   ]
  },
  {
   "cell_type": "code",
   "execution_count": null,
   "id": "2c280509",
   "metadata": {},
   "outputs": [],
   "source": []
  }
 ],
 "metadata": {
  "kernelspec": {
   "display_name": "Python 3",
   "language": "python",
   "name": "python3"
  },
  "language_info": {
   "codemirror_mode": {
    "name": "ipython",
    "version": 3
   },
   "file_extension": ".py",
   "mimetype": "text/x-python",
   "name": "python",
   "nbconvert_exporter": "python",
   "pygments_lexer": "ipython3",
   "version": "3.6.9"
  }
 },
 "nbformat": 4,
 "nbformat_minor": 5
}
