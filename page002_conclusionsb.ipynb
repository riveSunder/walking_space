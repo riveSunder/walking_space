{
 "cells": [
  {
   "cell_type": "markdown",
   "id": "d7be389b",
   "metadata": {},
   "source": [
    "<div align=\"center\">\n",
    "    <h1>All Inside the Black Box is Latent Space</h1>\n",
    "</div>\n",
    "<img src=\"assets/monolith_galaxies_sm.gif\" width=30%>\n",
    "\n",
    "1. <h3>We can identify points in latent space with desirable characteristics and vary those latent space values to generate variations on a theme, choosing the best outputs for downstream applications.</h3>\n",
    "2. <h3> We can do data science on latent spaces directly (where we usually call them \"features\").</h3>\n",
    "3. <h3> We can treat latent space as a map and use semi-automated tools to drive to a target destination (\"encoding\" or \"feature space\").</h3>\n",
    "4. <h3> We can identify nodes or node complexes in latent space that respond strongly to a desired characteristic (\"unsupervised ____ neuron\")</h3>\n",
    "\n",
    "\n",
    "Animation is a mashup of two images:\n",
    "* Monolith in France: CC BY SA Amandine Brige https://commons.wikimedia.org/wiki/File:ENS_2001_Monolith_below.jpg\n",
    "* Spiral galaxises image public domain from NASA's JPL: https://www.jpl.nasa.gov/images/ngc-6090-a-pair-of-spiral-galaxies\n",
    "\n",
    "| [Prev Page](page001_conclusionsa.ipynb) | [Next Page](page003_latent_space.ipynb) | \n",
    "|------------------------------------------------------------|------------------------------------|\n",
    "| | |\n"
   ]
  },
  {
   "cell_type": "code",
   "execution_count": null,
   "id": "ee41b2d6",
   "metadata": {},
   "outputs": [],
   "source": []
  }
 ],
 "metadata": {
  "kernelspec": {
   "display_name": "Python 3",
   "language": "python",
   "name": "python3"
  },
  "language_info": {
   "codemirror_mode": {
    "name": "ipython",
    "version": 3
   },
   "file_extension": ".py",
   "mimetype": "text/x-python",
   "name": "python",
   "nbconvert_exporter": "python",
   "pygments_lexer": "ipython3",
   "version": "3.6.9"
  }
 },
 "nbformat": 4,
 "nbformat_minor": 5
}
