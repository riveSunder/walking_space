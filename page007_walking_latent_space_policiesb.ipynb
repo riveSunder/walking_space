{
 "cells": [
  {
   "cell_type": "markdown",
   "id": "54b2b7f9",
   "metadata": {},
   "source": [
    "## Policy Variations\n",
    "\n",
    "<div align=\"center\">\n",
    "<img src=\"assets/swingup_fitness_policies_1.gif\">\n",
    "</div>\n",
    "\n",
    "## Fitness Landscape in Latent Space\n",
    "    \n",
    "<div align=\"center\">\n",
    "<img src=\"assets/swingup_fitness_landscape_1.png\" width=45%>\n",
    "</div>\n",
    "    \n",
    "Figures from my PGENs repo: [https://github.com/riveSunder/pgens](https://github.com/riveSunder/pgens)\n",
    "\n",
    "| [Prev Page](page006_walking_latent_space_policiesa.ipynb) | [Next Page](page014_latent_space_mapipynb) | \n",
    "|------------------------------------------------------------|------------------------------------|\n",
    "| | |\n"
   ]
  },
  {
   "cell_type": "code",
   "execution_count": null,
   "id": "3880a52f",
   "metadata": {},
   "outputs": [],
   "source": []
  }
 ],
 "metadata": {
  "kernelspec": {
   "display_name": "Python 3",
   "language": "python",
   "name": "python3"
  },
  "language_info": {
   "codemirror_mode": {
    "name": "ipython",
    "version": 3
   },
   "file_extension": ".py",
   "mimetype": "text/x-python",
   "name": "python",
   "nbconvert_exporter": "python",
   "pygments_lexer": "ipython3",
   "version": "3.6.9"
  }
 },
 "nbformat": 4,
 "nbformat_minor": 5
}
