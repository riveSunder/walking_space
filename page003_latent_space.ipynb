{
 "cells": [
  {
   "cell_type": "markdown",
   "id": "c15fa7fa",
   "metadata": {},
   "source": [
    "<div align=\"center\">\n",
    "    <h1> What is a Latent Space</h1>\n",
    "</div>\n",
    "\n",
    "## Any Abstract Representation in a Deep Model that is not Directly Interpretable is a Latent Space\n",
    "\n",
    "<img src=\"assets/bottleneck_example.png\" width=80%>\n",
    "\n",
    "\n",
    "### Often models are designed with a bottleneck to encourage them to learn a compressed representation of an input-ouput data mapping.\n",
    "\n",
    "| [Prev Page](page002_conclusionsb.ipynb) | [Next Page](page004_deep_learning.ipynb) | \n",
    "|------------------------------------------------------------|------------------------------------|\n",
    "| | |\n"
   ]
  },
  {
   "cell_type": "code",
   "execution_count": null,
   "id": "fa5ee251",
   "metadata": {},
   "outputs": [],
   "source": [
    "from autograd import numpy as np\n",
    "\n",
    "import matplotlib.pyplot as plt\n",
    "\n",
    "x = np.random.randn(1, 256)\n",
    "\n",
    "wxh = np.random.randn(256, 128)\n",
    "\n",
    "whh0 = np.random.randn(128, 64)\n",
    "\n",
    "whh1 = np.random.randn(64, 128)\n",
    "\n",
    "why = np.random.randn(128, 256)\n",
    "\n",
    "activation = lambda x: x * (x > 0)\n",
    "\n",
    "latent_space = activation(np.matmul(activation(np.matmul(x, wxh)), whh0))\n",
    "\n",
    "plt.figure(facecolor=\"white\")\n",
    "plt.imshow(latent_space.reshape(8,8), cmap=\"magma\")\n",
    "plt.title(\"Latent Space Example\")\n",
    "plt.show()"
   ]
  }
 ],
 "metadata": {
  "kernelspec": {
   "display_name": "Python 3",
   "language": "python",
   "name": "python3"
  },
  "language_info": {
   "codemirror_mode": {
    "name": "ipython",
    "version": 3
   },
   "file_extension": ".py",
   "mimetype": "text/x-python",
   "name": "python",
   "nbconvert_exporter": "python",
   "pygments_lexer": "ipython3",
   "version": "3.6.9"
  }
 },
 "nbformat": 4,
 "nbformat_minor": 5
}
